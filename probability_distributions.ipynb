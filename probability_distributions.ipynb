{
 "cells": [
  {
   "cell_type": "code",
   "execution_count": 1,
   "id": "443a615a",
   "metadata": {},
   "outputs": [],
   "source": [
    "import matplotlib.pyplot as plt\n",
    "import numpy as np\n",
    "from scipy import stats\n",
    "np.random.seed(123)\n",
    "import pandas as pd\n",
    "import env\n",
    "\n",
    "url = f'mysql+pymysql://{env.user}:{env.password}@{env.host}/employees'\n",
    "\n"
   ]
  },
  {
   "cell_type": "code",
   "execution_count": 2,
   "id": "9407f1b9",
   "metadata": {},
   "outputs": [
    {
     "data": {
      "text/plain": [
       "' 1. A bank found that the average number of cars waiting during \\nthe noon hour at a drive-up window follows a Poisson distribution \\nwith a mean of 2 cars. Make a chart of this distribution and answer \\nthese questions concerning the probability of cars waiting at the \\ndrive-up window.\\n\\nA. What is the probability that no cars drive up in the noon hour?\\nB. What is the probability that 3 or more cars come through the drive \\nthrough?\\nC. How likely is it that the drive through gets at least 1 car?'"
      ]
     },
     "execution_count": 2,
     "metadata": {},
     "output_type": "execute_result"
    }
   ],
   "source": [
    "''' 1. A bank found that the average number of cars waiting during \n",
    "the noon hour at a drive-up window follows a Poisson distribution \n",
    "with a mean of 2 cars. Make a chart of this distribution and answer \n",
    "these questions concerning the probability of cars waiting at the \n",
    "drive-up window.\n",
    "\n",
    "A. What is the probability that no cars drive up in the noon hour?\n",
    "B. What is the probability that 3 or more cars come through the drive \n",
    "through?\n",
    "C. How likely is it that the drive through gets at least 1 car?'''"
   ]
  },
  {
   "cell_type": "code",
   "execution_count": 3,
   "id": "bc57aa38",
   "metadata": {},
   "outputs": [
    {
     "data": {
      "text/plain": [
       "<BarContainer object of 10 artists>"
      ]
     },
     "execution_count": 3,
     "metadata": {},
     "output_type": "execute_result"
    },
    {
     "data": {
      "image/png": "[encoded data removed]",
      "text/plain": [
       "<Figure size 640x480 with 1 Axes>"
      ]
     },
     "metadata": {},
     "output_type": "display_data"
    }
   ],
   "source": [
    "lamda = 2 \n",
    "x = np.arange(0,10)\n",
    "y = stats.poisson(lamda).pmf(x)\n",
    " \n",
    "plt.bar(x,y)"
   ]
  },
  {
   "cell_type": "code",
   "execution_count": 4,
   "id": "3c465896",
   "metadata": {},
   "outputs": [
    {
     "data": {
      "text/plain": [
       "0.1353352832366127"
      ]
     },
     "execution_count": 4,
     "metadata": {},
     "output_type": "execute_result"
    }
   ],
   "source": [
    "# A. \n",
    "lamda = 2 \n",
    "stats.poisson(lamda).pmf(0) \n"
   ]
  },
  {
   "cell_type": "code",
   "execution_count": 5,
   "id": "64ee7386",
   "metadata": {},
   "outputs": [
    {
     "data": {
      "text/plain": [
       "0.32332358381693654"
      ]
     },
     "execution_count": 5,
     "metadata": {},
     "output_type": "execute_result"
    }
   ],
   "source": [
    "# B. \n",
    "stats.poisson(lamda).sf(2)\n"
   ]
  },
  {
   "cell_type": "code",
   "execution_count": 6,
   "id": "a2e7847f",
   "metadata": {},
   "outputs": [
    {
     "data": {
      "text/plain": [
       "0.8646647167633873"
      ]
     },
     "execution_count": 6,
     "metadata": {},
     "output_type": "execute_result"
    }
   ],
   "source": [
    "# C. \n",
    "1- stats.poisson(lamda).pmf(0)\n"
   ]
  },
  {
   "cell_type": "code",
   "execution_count": 7,
   "id": "15c3405f",
   "metadata": {},
   "outputs": [
    {
     "data": {
      "text/plain": [
       "' 2. Grades of State University graduates are normally distributed \\nwith a mean of 3.0 and a standard deviation of .3. Calculate the\\nfollowing:\\n\\nA. What grade point average is required to be in the top 5% of the\\ngraduating class?\\nB. What GPA constitutes the bottom 15% of the class?\\nC. An eccentric alumnus left scholarship money for students in the\\nthird decile from the bottom of their class. Determine the range\\nof the third decile. Would a student with a 2.8 grade point average\\nqualify for this scholarship?\\nD. If I have a GPA of 3.5, what percentile am I in?'"
      ]
     },
     "execution_count": 7,
     "metadata": {},
     "output_type": "execute_result"
    }
   ],
   "source": [
    "''' 2. Grades of State University graduates are normally distributed \n",
    "with a mean of 3.0 and a standard deviation of .3. Calculate the\n",
    "following:\n",
    "\n",
    "A. What grade point average is required to be in the top 5% of the\n",
    "graduating class?\n",
    "B. What GPA constitutes the bottom 15% of the class?\n",
    "C. An eccentric alumnus left scholarship money for students in the\n",
    "third decile from the bottom of their class. Determine the range\n",
    "of the third decile. Would a student with a 2.8 grade point average\n",
    "qualify for this scholarship?\n",
    "D. If I have a GPA of 3.5, what percentile am I in?'''"
   ]
  },
  {
   "cell_type": "code",
   "execution_count": 31,
   "id": "019f73f3",
   "metadata": {},
   "outputs": [],
   "source": [
    "mean = 3\n",
    "std = .3"
   ]
  },
  {
   "cell_type": "code",
   "execution_count": 32,
   "id": "1639eb5b",
   "metadata": {},
   "outputs": [
    {
     "data": {
      "text/plain": [
       "3.4934560880854417"
      ]
     },
     "execution_count": 32,
     "metadata": {},
     "output_type": "execute_result"
    }
   ],
   "source": [
    "# A.\n",
    "gpa = stats.norm(mean, std)\n",
    "gpa.isf(.05)"
   ]
  },
  {
   "cell_type": "code",
   "execution_count": 10,
   "id": "4243d31d",
   "metadata": {},
   "outputs": [
    {
     "data": {
      "text/plain": [
       "2.689069983151863"
      ]
     },
     "execution_count": 10,
     "metadata": {},
     "output_type": "execute_result"
    }
   ],
   "source": [
    "# B.\n",
    "gpa.ppf(.15)"
   ]
  },
  {
   "cell_type": "code",
   "execution_count": 35,
   "id": "0103c6d1",
   "metadata": {},
   "outputs": [],
   "source": [
    "# C. \n"
   ]
  },
  {
   "cell_type": "code",
   "execution_count": 34,
   "id": "b3d28e1d",
   "metadata": {},
   "outputs": [
    {
     "data": {
      "text/plain": [
       "array([2.74751363, 2.84267985])"
      ]
     },
     "execution_count": 34,
     "metadata": {},
     "output_type": "execute_result"
    }
   ],
   "source": [
    "gpa.ppf((0.2,0.3))"
   ]
  },
  {
   "cell_type": "code",
   "execution_count": 12,
   "id": "ec7ce22d",
   "metadata": {},
   "outputs": [
    {
     "data": {
      "text/plain": [
       "0.047790352272814696"
      ]
     },
     "execution_count": 12,
     "metadata": {},
     "output_type": "execute_result"
    }
   ],
   "source": [
    "# D.\n",
    "1- gpa.cdf(3.5)"
   ]
  },
  {
   "cell_type": "code",
   "execution_count": 36,
   "id": "89f12108",
   "metadata": {},
   "outputs": [
    {
     "data": {
      "text/plain": [
       "0.0477903522728147"
      ]
     },
     "execution_count": 36,
     "metadata": {},
     "output_type": "execute_result"
    }
   ],
   "source": [
    "gpa.sf(3.5)"
   ]
  },
  {
   "cell_type": "code",
   "execution_count": 37,
   "id": "2110326f",
   "metadata": {},
   "outputs": [
    {
     "data": {
      "text/plain": [
       "0.9522096477271853"
      ]
     },
     "execution_count": 37,
     "metadata": {},
     "output_type": "execute_result"
    }
   ],
   "source": [
    "gpa.cdf(3.5)"
   ]
  },
  {
   "cell_type": "code",
   "execution_count": 13,
   "id": "4cafcff9",
   "metadata": {},
   "outputs": [
    {
     "data": {
      "text/plain": [
       "' 3. A marketing website has an average click-through rate of 2%.\\nOne day they observe 4326 visitors and 97 click-throughs.\\nHow likely is it that this many people or more click through?'"
      ]
     },
     "execution_count": 13,
     "metadata": {},
     "output_type": "execute_result"
    }
   ],
   "source": [
    "''' 3. A marketing website has an average click-through rate of 2%.\n",
    "One day they observe 4326 visitors and 97 click-throughs.\n",
    "How likely is it that this many people or more click through?'''"
   ]
  },
  {
   "cell_type": "code",
   "execution_count": 14,
   "id": "34bf2afa",
   "metadata": {},
   "outputs": [
    {
     "data": {
      "text/plain": [
       "0.13975823631416445"
      ]
     },
     "execution_count": 14,
     "metadata": {},
     "output_type": "execute_result"
    }
   ],
   "source": [
    "n = 4326\n",
    "p = 0.02\n",
    "\n",
    "stats.binom(n, p).sf(96)"
   ]
  },
  {
   "cell_type": "code",
   "execution_count": 38,
   "id": "4b31a5e8",
   "metadata": {},
   "outputs": [
    {
     "data": {
      "text/plain": [
       "86.52"
      ]
     },
     "execution_count": 38,
     "metadata": {},
     "output_type": "execute_result"
    }
   ],
   "source": [
    "λ = 4326 * .02\n",
    "λ"
   ]
  },
  {
   "cell_type": "code",
   "execution_count": 39,
   "id": "2de52774",
   "metadata": {},
   "outputs": [
    {
     "data": {
      "text/plain": [
       "0.13975823631416445"
      ]
     },
     "execution_count": 39,
     "metadata": {},
     "output_type": "execute_result"
    }
   ],
   "source": [
    "cd = stats.binom(4326, .02)\n",
    "cd.sf(96)"
   ]
  },
  {
   "cell_type": "code",
   "execution_count": 15,
   "id": "3739f068",
   "metadata": {},
   "outputs": [
    {
     "data": {
      "text/plain": [
       "' 4. You are working on some statistics homework consisting of \\n100 questions where all of the answers are a probability rounded to \\nthe hundreths place. Looking to save time, you put down random \\nprobabilities as the answer to each question.\\n\\nWhat is the probability that at least one of your first 60 answers\\nis correct?'"
      ]
     },
     "execution_count": 15,
     "metadata": {},
     "output_type": "execute_result"
    }
   ],
   "source": [
    "''' 4. You are working on some statistics homework consisting of \n",
    "100 questions where all of the answers are a probability rounded to \n",
    "the hundreths place. Looking to save time, you put down random \n",
    "probabilities as the answer to each question.\n",
    "\n",
    "What is the probability that at least one of your first 60 answers\n",
    "is correct?'''"
   ]
  },
  {
   "cell_type": "code",
   "execution_count": 16,
   "id": "34caa002",
   "metadata": {},
   "outputs": [
    {
     "data": {
      "text/plain": [
       "0.45284335760923855"
      ]
     },
     "execution_count": 16,
     "metadata": {},
     "output_type": "execute_result"
    }
   ],
   "source": [
    "n_trials = 60\n",
    "\n",
    "p_success = .01\n",
    "\n",
    "stats.binom(n_trials, p_success).sf(0)"
   ]
  },
  {
   "cell_type": "code",
   "execution_count": 17,
   "id": "720772e3",
   "metadata": {},
   "outputs": [
    {
     "data": {
      "text/plain": [
       "\" 5. The codeup staff tends to get upset when the\\nstudent break area is not cleaned up. Suppose that there's \\na 3% chance that any one student cleans the break area when\\nthey visit it, and, on any given day, about 90% of the 3 active \\ncohorts of 22 students visit the break area. \\nA. How likely is it that the break area gets cleaned up each day? \\nB. How likely is it that it goes two days without getting cleaned up? \\nC. All week?\""
      ]
     },
     "execution_count": 17,
     "metadata": {},
     "output_type": "execute_result"
    }
   ],
   "source": [
    "''' 5. The codeup staff tends to get upset when the\n",
    "student break area is not cleaned up. Suppose that there's \n",
    "a 3% chance that any one student cleans the break area when\n",
    "they visit it, and, on any given day, about 90% of the 3 active \n",
    "cohorts of 22 students visit the break area. \n",
    "A. How likely is it that the break area gets cleaned up each day? \n",
    "B. How likely is it that it goes two days without getting cleaned up? \n",
    "C. All week?'''"
   ]
  },
  {
   "cell_type": "code",
   "execution_count": 18,
   "id": "0e44d338",
   "metadata": {},
   "outputs": [
    {
     "data": {
      "text/plain": [
       "0.8342199288437352"
      ]
     },
     "execution_count": 18,
     "metadata": {},
     "output_type": "execute_result"
    }
   ],
   "source": [
    "n = round(0.9 * 3 * 22)\n",
    "p = 0.03\n",
    "\n",
    "stats.binom(n, p).sf(0)"
   ]
  },
  {
   "cell_type": "code",
   "execution_count": 19,
   "id": "8346a78a",
   "metadata": {},
   "outputs": [
    {
     "data": {
      "text/plain": [
       "0.027483031992576134"
      ]
     },
     "execution_count": 19,
     "metadata": {},
     "output_type": "execute_result"
    }
   ],
   "source": [
    "# B.\n",
    "stats.binom(n * 2, p).pmf(0)"
   ]
  },
  {
   "cell_type": "code",
   "execution_count": 20,
   "id": "4b212f4f",
   "metadata": {},
   "outputs": [
    {
     "data": {
      "text/plain": [
       "0.00012521651388091245"
      ]
     },
     "execution_count": 20,
     "metadata": {},
     "output_type": "execute_result"
    }
   ],
   "source": [
    "# C.\n",
    "stats.binom(n * 5, p).pmf(0)\n"
   ]
  },
  {
   "cell_type": "code",
   "execution_count": 21,
   "id": "a773dbc4",
   "metadata": {},
   "outputs": [
    {
     "data": {
      "text/plain": [
       "'6. You want to get lunch at La Panaderia, but notice that the \\nline is usually very long at lunchtime. After several weeks of \\ncareful observation, you notice that the average number of people\\nin line when your lunch break starts is normally distributed with\\na mean of 15 and standard deviation of 3.\\n\\nA. If it takes 2 minutes for each person to order, and 10 minutes \\nfrom ordering to getting your food, what is the likelihood that you\\nhave at least 15 minutes left to eat your food before you\\nhave to go back to class?\\n\\nAssume you haveone hour for lunch, and ignore travel time to and from La Panaderia.'"
      ]
     },
     "execution_count": 21,
     "metadata": {},
     "output_type": "execute_result"
    }
   ],
   "source": [
    "'''6. You want to get lunch at La Panaderia, but notice that the \n",
    "line is usually very long at lunchtime. After several weeks of \n",
    "careful observation, you notice that the average number of people\n",
    "in line when your lunch break starts is normally distributed with\n",
    "a mean of 15 and standard deviation of 3.\n",
    "\n",
    "A. If it takes 2 minutes for each person to order, and 10 minutes \n",
    "from ordering to getting your food, what is the likelihood that you\n",
    "have at least 15 minutes left to eat your food before you\n",
    "have to go back to class?\n",
    "\n",
    "Assume you haveone hour for lunch, and ignore travel time to and from La Panaderia.'''"
   ]
  },
  {
   "cell_type": "code",
   "execution_count": 22,
   "id": "933d9839",
   "metadata": {},
   "outputs": [
    {
     "data": {
      "text/plain": [
       "0.174974"
      ]
     },
     "execution_count": 22,
     "metadata": {},
     "output_type": "execute_result"
    }
   ],
   "source": [
    "Mean = 15 \n",
    "std = 3\n",
    "sim = 1_000_000\n",
    "trials = 7\n",
    "clean = 1\n",
    "noclean = 0\n",
    "simulation = np.random.choice([clean, noclean], size = (sim, trials), p = [0.03, 0.97])\n",
    "prob = (simulation.sum(axis = 1) == 1).mean()\n",
    "prob\n"
   ]
  },
  {
   "cell_type": "code",
   "execution_count": 41,
   "id": "844ebcb9",
   "metadata": {},
   "outputs": [
    {
     "data": {
      "text/plain": [
       "0.9772498680518208"
      ]
     },
     "execution_count": 41,
     "metadata": {},
     "output_type": "execute_result"
    }
   ],
   "source": [
    "# 33 minutes\n",
    "stats.norm(3,15).cdf(33)"
   ]
  },
  {
   "cell_type": "code",
   "execution_count": 23,
   "id": "7b96b00b",
   "metadata": {},
   "outputs": [
    {
     "data": {
      "text/plain": [
       "'7. Connect to the employees database and find the average salary\\nof current employees, along with the standard deviation. For the \\nfollowing questions, calculate the answer based on modeling the \\nemployees salaries with a normal distribution defined by the \\ncalculated mean and standard deviation then compare this answer to \\nthe actual values present in the salaries dataset.\\n\\nA. What percent of employees earn less than 60,000?\\nB. What percent of employees earn more than 95,000?\\nC. What percent of employees earn between 65,000 and 80,000?\\nD. What do the top 5% of employees make?'"
      ]
     },
     "execution_count": 23,
     "metadata": {},
     "output_type": "execute_result"
    }
   ],
   "source": [
    "'''7. Connect to the employees database and find the average salary\n",
    "of current employees, along with the standard deviation. For the \n",
    "following questions, calculate the answer based on modeling the \n",
    "employees salaries with a normal distribution defined by the \n",
    "calculated mean and standard deviation then compare this answer to \n",
    "the actual values present in the salaries dataset.\n",
    "\n",
    "A. What percent of employees earn less than 60,000?\n",
    "B. What percent of employees earn more than 95,000?\n",
    "C. What percent of employees earn between 65,000 and 80,000?\n",
    "D. What do the top 5% of employees make?'''"
   ]
  },
  {
   "cell_type": "code",
   "execution_count": 24,
   "id": "d3916554",
   "metadata": {},
   "outputs": [
    {
     "data": {
      "text/html": [
       "<div>\n",
       "<style scoped>\n",
       "    .dataframe tbody tr th:only-of-type {\n",
       "        vertical-align: middle;\n",
       "    }\n",
       "\n",
       "    .dataframe tbody tr th {\n",
       "        vertical-align: top;\n",
       "    }\n",
       "\n",
       "    .dataframe thead th {\n",
       "        text-align: right;\n",
       "    }\n",
       "</style>\n",
       "<table border=\"1\" class=\"dataframe\">\n",
       "  <thead>\n",
       "    <tr style=\"text-align: right;\">\n",
       "      <th></th>\n",
       "      <th>emp_no</th>\n",
       "      <th>salary</th>\n",
       "      <th>from_date</th>\n",
       "      <th>to_date</th>\n",
       "    </tr>\n",
       "  </thead>\n",
       "  <tbody>\n",
       "    <tr>\n",
       "      <th>0</th>\n",
       "      <td>10001</td>\n",
       "      <td>88958</td>\n",
       "      <td>2002-06-22</td>\n",
       "      <td>9999-01-01</td>\n",
       "    </tr>\n",
       "    <tr>\n",
       "      <th>1</th>\n",
       "      <td>10002</td>\n",
       "      <td>72527</td>\n",
       "      <td>2001-08-02</td>\n",
       "      <td>9999-01-01</td>\n",
       "    </tr>\n",
       "    <tr>\n",
       "      <th>2</th>\n",
       "      <td>10003</td>\n",
       "      <td>43311</td>\n",
       "      <td>2001-12-01</td>\n",
       "      <td>9999-01-01</td>\n",
       "    </tr>\n",
       "    <tr>\n",
       "      <th>3</th>\n",
       "      <td>10004</td>\n",
       "      <td>74057</td>\n",
       "      <td>2001-11-27</td>\n",
       "      <td>9999-01-01</td>\n",
       "    </tr>\n",
       "    <tr>\n",
       "      <th>4</th>\n",
       "      <td>10005</td>\n",
       "      <td>94692</td>\n",
       "      <td>2001-09-09</td>\n",
       "      <td>9999-01-01</td>\n",
       "    </tr>\n",
       "    <tr>\n",
       "      <th>...</th>\n",
       "      <td>...</td>\n",
       "      <td>...</td>\n",
       "      <td>...</td>\n",
       "      <td>...</td>\n",
       "    </tr>\n",
       "    <tr>\n",
       "      <th>240119</th>\n",
       "      <td>499995</td>\n",
       "      <td>52868</td>\n",
       "      <td>2002-06-01</td>\n",
       "      <td>9999-01-01</td>\n",
       "    </tr>\n",
       "    <tr>\n",
       "      <th>240120</th>\n",
       "      <td>499996</td>\n",
       "      <td>69501</td>\n",
       "      <td>2002-05-12</td>\n",
       "      <td>9999-01-01</td>\n",
       "    </tr>\n",
       "    <tr>\n",
       "      <th>240121</th>\n",
       "      <td>499997</td>\n",
       "      <td>83441</td>\n",
       "      <td>2001-08-26</td>\n",
       "      <td>9999-01-01</td>\n",
       "    </tr>\n",
       "    <tr>\n",
       "      <th>240122</th>\n",
       "      <td>499998</td>\n",
       "      <td>55003</td>\n",
       "      <td>2001-12-25</td>\n",
       "      <td>9999-01-01</td>\n",
       "    </tr>\n",
       "    <tr>\n",
       "      <th>240123</th>\n",
       "      <td>499999</td>\n",
       "      <td>77303</td>\n",
       "      <td>2001-11-29</td>\n",
       "      <td>9999-01-01</td>\n",
       "    </tr>\n",
       "  </tbody>\n",
       "</table>\n",
       "<p>240124 rows × 4 columns</p>\n",
       "</div>"
      ],
      "text/plain": [
       "        emp_no  salary   from_date     to_date\n",
       "0        10001   88958  2002-06-22  9999-01-01\n",
       "1        10002   72527  2001-08-02  9999-01-01\n",
       "2        10003   43311  2001-12-01  9999-01-01\n",
       "3        10004   74057  2001-11-27  9999-01-01\n",
       "4        10005   94692  2001-09-09  9999-01-01\n",
       "...        ...     ...         ...         ...\n",
       "240119  499995   52868  2002-06-01  9999-01-01\n",
       "240120  499996   69501  2002-05-12  9999-01-01\n",
       "240121  499997   83441  2001-08-26  9999-01-01\n",
       "240122  499998   55003  2001-12-25  9999-01-01\n",
       "240123  499999   77303  2001-11-29  9999-01-01\n",
       "\n",
       "[240124 rows x 4 columns]"
      ]
     },
     "execution_count": 24,
     "metadata": {},
     "output_type": "execute_result"
    }
   ],
   "source": [
    "url = f'mysql+pymysql://{env.user}:{env.password}@{env.host}/employees'\n",
    "query = '''\n",
    "SELECT *\n",
    "FROM salaries s\n",
    "WHERE s.to_date > NOW()\n",
    "'''\n",
    "salaries = pd.read_sql(query, url)\n",
    "salaries"
   ]
  },
  {
   "cell_type": "code",
   "execution_count": 46,
   "id": "35fd7945",
   "metadata": {},
   "outputs": [
    {
     "data": {
      "text/plain": [
       "(72012.23585730705, 17309.99538025198)"
      ]
     },
     "execution_count": 46,
     "metadata": {},
     "output_type": "execute_result"
    }
   ],
   "source": [
    "mean = salaries.salary.mean()\n",
    "std_dev = salaries.salary.std()\n",
    "(mean, std_dev)"
   ]
  },
  {
   "cell_type": "code",
   "execution_count": 47,
   "id": "50a533cb",
   "metadata": {},
   "outputs": [
    {
     "data": {
      "text/plain": [
       "0.24385742480214423"
      ]
     },
     "execution_count": 47,
     "metadata": {},
     "output_type": "execute_result"
    }
   ],
   "source": [
    "# A.\n",
    "stats.norm(mean, std_dev).cdf(60_000)\n"
   ]
  },
  {
   "cell_type": "code",
   "execution_count": 48,
   "id": "13ab3794",
   "metadata": {},
   "outputs": [
    {
     "data": {
      "text/plain": [
       "0.09208819199804053"
      ]
     },
     "execution_count": 48,
     "metadata": {},
     "output_type": "execute_result"
    }
   ],
   "source": [
    "# B. \n",
    "stats.norm(mean, std_dev).sf(95_000)"
   ]
  },
  {
   "cell_type": "code",
   "execution_count": 49,
   "id": "1b5da568",
   "metadata": {},
   "outputs": [
    {
     "data": {
      "text/plain": [
       "array([0.33506057])"
      ]
     },
     "execution_count": 49,
     "metadata": {},
     "output_type": "execute_result"
    }
   ],
   "source": [
    "# C.\n",
    "np.diff(stats.norm(mean, std_dev).cdf([65000, 80000]))\n"
   ]
  },
  {
   "cell_type": "code",
   "execution_count": 29,
   "id": "eee05ce5",
   "metadata": {},
   "outputs": [
    {
     "data": {
      "text/plain": [
       "100484.64454102777"
      ]
     },
     "execution_count": 29,
     "metadata": {},
     "output_type": "execute_result"
    }
   ],
   "source": [
    "# D.\n",
    "stats.norm(mean, std_dev).isf(0.05)\n"
   ]
  },
  {
   "cell_type": "code",
   "execution_count": 30,
   "id": "9259aa69",
   "metadata": {},
   "outputs": [
    {
     "data": {
      "text/plain": [
       "104225.84999999998"
      ]
     },
     "execution_count": 30,
     "metadata": {},
     "output_type": "execute_result"
    }
   ],
   "source": [
    "salaries.salary.quantile(0.95)\n"
   ]
  },
  {
   "cell_type": "code",
   "execution_count": null,
   "id": "0db17eb1",
   "metadata": {},
   "outputs": [],
   "source": []
  },
  {
   "cell_type": "code",
   "execution_count": null,
   "id": "7f3ad5d6",
   "metadata": {},
   "outputs": [],
   "source": []
  },
  {
   "cell_type": "code",
   "execution_count": null,
   "id": "251de021",
   "metadata": {},
   "outputs": [],
   "source": []
  },
  {
   "cell_type": "code",
   "execution_count": null,
   "id": "92c44b33",
   "metadata": {},
   "outputs": [],
   "source": []
  },
  {
   "cell_type": "code",
   "execution_count": null,
   "id": "b96a700b",
   "metadata": {},
   "outputs": [],
   "source": []
  },
  {
   "cell_type": "code",
   "execution_count": null,
   "id": "1e66df97",
   "metadata": {},
   "outputs": [],
   "source": []
  }
 ],
 "metadata": {
  "kernelspec": {
   "display_name": "Python 3 (ipykernel)",
   "language": "python",
   "name": "python3"
  },
  "language_info": {
   "codemirror_mode": {
    "name": "ipython",
    "version": 3
   },
   "file_extension": ".py",
   "mimetype": "text/x-python",
   "name": "python",
   "nbconvert_exporter": "python",
   "pygments_lexer": "ipython3",
   "version": "3.9.13"
  }
 },
 "nbformat": 4,
 "nbformat_minor": 5
}
