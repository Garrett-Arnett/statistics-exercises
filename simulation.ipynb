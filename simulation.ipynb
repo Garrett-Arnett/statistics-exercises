{
 "cells": [
  {
   "cell_type": "code",
   "execution_count": 1,
   "id": "3bae9799",
   "metadata": {},
   "outputs": [],
   "source": [
    "from pydataset import data\n",
    "from math import sqrt\n",
    "import pandas as pd\n",
    "import numpy as np\n",
    "np.random.seed(29)"
   ]
  },
  {
   "cell_type": "code",
   "execution_count": 2,
   "id": "243289c1",
   "metadata": {},
   "outputs": [],
   "source": [
    "# 1. How likely is it that you roll doubles when rolling two dice?"
   ]
  },
  {
   "cell_type": "code",
   "execution_count": 3,
   "id": "9e9fd668",
   "metadata": {},
   "outputs": [
    {
     "data": {
      "text/plain": [
       "(array([6, 4, 5, ..., 4, 4, 6]), array([3, 5, 3, ..., 3, 4, 2]))"
      ]
     },
     "execution_count": 3,
     "metadata": {},
     "output_type": "execute_result"
    }
   ],
   "source": [
    "first_die = np.random.choice([1,2,3,4,5,6], size = 1_000_000)\n",
    "second_die = np.random.choice([1,2,3,4,5,6], size = 1_000_000)\n",
    "first_die, second_die"
   ]
  },
  {
   "cell_type": "code",
   "execution_count": 4,
   "id": "20cddbeb",
   "metadata": {},
   "outputs": [
    {
     "data": {
      "text/plain": [
       "array([False, False, False, ..., False,  True, False])"
      ]
     },
     "execution_count": 4,
     "metadata": {},
     "output_type": "execute_result"
    }
   ],
   "source": [
    "first_die == second_die"
   ]
  },
  {
   "cell_type": "code",
   "execution_count": 5,
   "id": "e68e31f0",
   "metadata": {},
   "outputs": [
    {
     "data": {
      "text/plain": [
       "0.166725"
      ]
     },
     "execution_count": 5,
     "metadata": {},
     "output_type": "execute_result"
    }
   ],
   "source": [
    "(first_die == second_die).mean()"
   ]
  },
  {
   "cell_type": "code",
   "execution_count": 6,
   "id": "ae5cd989",
   "metadata": {},
   "outputs": [],
   "source": [
    "# 2. If you flip 8 coins, what is the probability of getting \n",
    "# exactly 3 heads? What is the probability of getting more \n",
    "# than 3 heads?"
   ]
  },
  {
   "cell_type": "code",
   "execution_count": 7,
   "id": "b46f13f7",
   "metadata": {},
   "outputs": [
    {
     "data": {
      "text/plain": [
       "0.219366"
      ]
     },
     "execution_count": 7,
     "metadata": {},
     "output_type": "execute_result"
    }
   ],
   "source": [
    "n_simulations = 1_000_000\n",
    "n_trials = 8\n",
    "heads = 1\n",
    "tails = 0\n",
    "flips = np.random.choice([heads, tails], size =(n_simulations, n_trials))\n",
    "flips\n",
    "\n",
    "sum_of_flips = flips.sum(axis=1)\n",
    "(sum_of_flips == 3).mean()"
   ]
  },
  {
   "cell_type": "code",
   "execution_count": 8,
   "id": "ef752633",
   "metadata": {},
   "outputs": [
    {
     "data": {
      "text/plain": [
       "0.636552"
      ]
     },
     "execution_count": 8,
     "metadata": {},
     "output_type": "execute_result"
    }
   ],
   "source": [
    "(sum_of_flips > 3).mean() \n"
   ]
  },
  {
   "cell_type": "code",
   "execution_count": 9,
   "id": "65adfa91",
   "metadata": {},
   "outputs": [],
   "source": [
    "# 3. There are approximitely 3 web development cohorts \n",
    "# for every 1 data science cohort at Codeup. Assuming that Codeup \n",
    "# randomly selects an alumni to put on a billboard, what are the \n",
    "# odds that the two billboards I drive past both \n",
    "# have data science students on them?"
   ]
  },
  {
   "cell_type": "code",
   "execution_count": 10,
   "id": "b80a3271",
   "metadata": {},
   "outputs": [
    {
     "data": {
      "text/plain": [
       "0.062867"
      ]
     },
     "execution_count": 10,
     "metadata": {},
     "output_type": "execute_result"
    }
   ],
   "source": [
    "sim = 1_000_000\n",
    "trials = 2\n",
    "data = 1\n",
    "web = 0\n",
    "commutes = np.random.choice ([data, web], size=(sim, trials), p=[0.25, 0.75]) \n",
    "\n",
    "prob = (commutes.sum(axis=1) == 2).mean()\n",
    "\n",
    "prob"
   ]
  },
  {
   "cell_type": "code",
   "execution_count": 11,
   "id": "47017b93",
   "metadata": {},
   "outputs": [
    {
     "data": {
      "text/plain": [
       "0.0625"
      ]
     },
     "execution_count": 11,
     "metadata": {},
     "output_type": "execute_result"
    }
   ],
   "source": [
    "Theoretical = (1/4) * (1/4)\n",
    "Theoretical"
   ]
  },
  {
   "cell_type": "code",
   "execution_count": 12,
   "id": "9a55d892",
   "metadata": {},
   "outputs": [],
   "source": [
    "# 4. Codeup students buy, on average, 3 poptart packages with a\n",
    "# standard deviation of 1.5 a day from the snack vending machine.\n",
    "# If on monday the machine is restocked with 17 poptart packages,\n",
    "# how likely is it that I will be able to buy some poptarts on Friday\n",
    "# afternoon? (Remember, if you have mean and standard deviation, \n",
    "# use the np.random.normal) You'll need to make a judgement call on \n",
    "# how to handle some of your values"
   ]
  },
  {
   "cell_type": "code",
   "execution_count": 13,
   "id": "2c28db4e",
   "metadata": {},
   "outputs": [
    {
     "data": {
      "text/plain": [
       "array([[3.22182126, 3.38124611, 2.19373835, 2.56731035, 4.07713537],\n",
       "       [4.77704863, 1.75817619, 4.04759536, 2.90605825, 1.15753488],\n",
       "       [3.71720704, 5.6113371 , 2.48997328, 2.80643954, 4.39020263],\n",
       "       ...,\n",
       "       [2.94118854, 2.09985034, 3.53036865, 1.93245781, 3.78698001],\n",
       "       [2.1608775 , 1.8824481 , 4.28786043, 6.25147458, 5.65536202],\n",
       "       [2.6651122 , 3.5980215 , 3.63924165, 4.67945752, 2.55272916]])"
      ]
     },
     "execution_count": 13,
     "metadata": {},
     "output_type": "execute_result"
    }
   ],
   "source": [
    "avg_pop = 3 \n",
    "pop_std = 1.5\n",
    "sim = 1_000_000\n",
    "trials = 5\n",
    "simulation = np.random.normal(avg_pop, pop_std, size=(sim, trials)) \n",
    "simulation"
   ]
  },
  {
   "cell_type": "code",
   "execution_count": 14,
   "id": "11ef2b64",
   "metadata": {},
   "outputs": [
    {
     "data": {
      "text/plain": [
       "0.724502"
      ]
     },
     "execution_count": 14,
     "metadata": {},
     "output_type": "execute_result"
    }
   ],
   "source": [
    "probablity= (simulation.sum(axis=1) < 17).mean()\n",
    "probablity"
   ]
  },
  {
   "cell_type": "code",
   "execution_count": 15,
   "id": "a434649f",
   "metadata": {},
   "outputs": [],
   "source": [
    "# 5. Compare Heights\n",
    "\n",
    "# Men have an average height of 178 cm and standard deviation of 8cm.\n",
    "# Women have a mean of 170, sd = 6cm.\n",
    "# Since you have means and standard deviations, you can use\n",
    "# np.random.normal to generate observations.\n",
    "# If a man and woman are chosen at random, what is the\n",
    "# likelihood the woman is taller than the man?"
   ]
  },
  {
   "cell_type": "code",
   "execution_count": 16,
   "id": "e031731e",
   "metadata": {},
   "outputs": [
    {
     "data": {
      "text/plain": [
       "0.212631"
      ]
     },
     "execution_count": 16,
     "metadata": {},
     "output_type": "execute_result"
    }
   ],
   "source": [
    "men = 178\n",
    "mstd = 8\n",
    "women = 170\n",
    "wstd = 6\n",
    "\n",
    "s_men = np.random.normal(men, mstd, 1_000_000)\n",
    "s_men\n",
    "\n",
    "s_women = np.random.normal(women, wstd, 1_000_000)\n",
    "s_women\n",
    "\n",
    "calculated_prob = (s_women > s_men).mean()\n",
    "calculated_prob"
   ]
  },
  {
   "cell_type": "code",
   "execution_count": 17,
   "id": "9370e1a3",
   "metadata": {},
   "outputs": [],
   "source": [
    "# 6. When installing anaconda on a student's computer, there's a \n",
    "# 1 in 250 chance that the download is corrupted and the \n",
    "# installation fails. What are the odds that after having 50 \n",
    "# students download anaconda, no one has an installation issue? \n",
    "# 100 students?\n",
    "\n",
    "# A .What is the probability that we observe an installation issue\n",
    "# within the first 150 students that download anaconda?\n",
    "\n",
    "# B .How likely is it that 450 students all download anaconda without \n",
    "# an issue?\n",
    "\n"
   ]
  },
  {
   "cell_type": "code",
   "execution_count": 18,
   "id": "0ea70baa",
   "metadata": {},
   "outputs": [
    {
     "data": {
      "text/plain": [
       "0.182209"
      ]
     },
     "execution_count": 18,
     "metadata": {},
     "output_type": "execute_result"
    }
   ],
   "source": [
    "sim = 1_000_000\n",
    "trials = 50 # number of students\n",
    "fail = 1\n",
    "success = 0\n",
    "#1/250 = 0.004 prob\n",
    "simulation = np.random.choice([fail, success], size = (sim, trials), p=[0.004, 0.996])\n",
    "\n",
    "prob= (simulation.sum(axis=1) > 0 ).mean()\n",
    "prob"
   ]
  },
  {
   "cell_type": "code",
   "execution_count": 19,
   "id": "fdb1daab",
   "metadata": {},
   "outputs": [
    {
     "data": {
      "text/plain": [
       "0.330833"
      ]
     },
     "execution_count": 19,
     "metadata": {},
     "output_type": "execute_result"
    }
   ],
   "source": [
    "sim = 1_000_000\n",
    "trials = 100 # number of students\n",
    "fail = 1\n",
    "success = 0\n",
    "#1/250 = 0.004 prob\n",
    "simulation = np.random.choice([fail, success], size = (sim, trials), p=[0.004, 0.996])\n",
    "\n",
    "prob= (simulation.sum(axis=1) > 0 ).mean()\n",
    "prob"
   ]
  },
  {
   "cell_type": "code",
   "execution_count": 20,
   "id": "1aeff63c",
   "metadata": {},
   "outputs": [
    {
     "data": {
      "text/plain": [
       "0.451438"
      ]
     },
     "execution_count": 20,
     "metadata": {},
     "output_type": "execute_result"
    }
   ],
   "source": [
    "# A.\n",
    "sim = 1_000_000\n",
    "trials = 150 # number of students\n",
    "fail = 1\n",
    "success = 0\n",
    "#1/250 = 0.004 prob\n",
    "simulation = np.random.choice([fail, success], size = (sim, trials), p=[0.004, 0.996])\n",
    "\n",
    "prob= (simulation.sum(axis=1) > 0 ).mean()\n",
    "prob"
   ]
  },
  {
   "cell_type": "code",
   "execution_count": 21,
   "id": "9effb389",
   "metadata": {},
   "outputs": [
    {
     "data": {
      "text/plain": [
       "0.16487600000000002"
      ]
     },
     "execution_count": 21,
     "metadata": {},
     "output_type": "execute_result"
    }
   ],
   "source": [
    "# B. \n",
    "sim = 1_000_000\n",
    "trials = 450 # number of students\n",
    "fail = 1\n",
    "success = 0\n",
    "#1/250 = 0.004 prob\n",
    "simulation = np.random.choice([fail, success], size = (sim, trials), p=[0.004, 0.996])\n",
    "\n",
    "prob= (simulation.sum(axis=1) > 0 ).mean()\n",
    "1 - prob"
   ]
  },
  {
   "cell_type": "code",
   "execution_count": 22,
   "id": "f68b1c0e",
   "metadata": {},
   "outputs": [],
   "source": [
    "# 7. There's a 70% chance on any given day that there will be at \n",
    "# least one food truck at Travis Park. However, you haven't\n",
    "# seen a food truck there in 3 days. How unlikely is this?\n",
    "\n",
    "# A.  How likely is it that a food truck will show up sometime this week?"
   ]
  },
  {
   "cell_type": "code",
   "execution_count": 36,
   "id": "9b1ef44a",
   "metadata": {},
   "outputs": [
    {
     "data": {
      "text/plain": [
       "0.026885"
      ]
     },
     "execution_count": 36,
     "metadata": {},
     "output_type": "execute_result"
    }
   ],
   "source": [
    "sim = 1_000_000\n",
    "trials = 3\n",
    "ft = 1\n",
    "noft = 0\n",
    "\n",
    "simulation = np.random.choice([noft, ft], size = (sim, trials), p = [0.30, 0.70]) \n",
    "\n",
    "prob = (simulation.sum(axis = 1) == 0).mean()\n",
    "prob"
   ]
  },
  {
   "cell_type": "code",
   "execution_count": 41,
   "id": "3b1c1872",
   "metadata": {},
   "outputs": [
    {
     "data": {
      "text/plain": [
       "0.999801"
      ]
     },
     "execution_count": 41,
     "metadata": {},
     "output_type": "execute_result"
    }
   ],
   "source": [
    "# A.\n",
    "sim = 1_000_000\n",
    "trials = 7\n",
    "ft = 1\n",
    "noft = 0\n",
    "simulation = np.random.choice([ft, noft], size = (sim, trials), p = [0.70, 0.30])\n",
    "prob = (simulation.sum(axis = 1) == 0).mean()\n",
    "1- prob"
   ]
  },
  {
   "cell_type": "code",
   "execution_count": 25,
   "id": "ae7778b6",
   "metadata": {},
   "outputs": [],
   "source": [
    "# 8. If 23 people are in the same room, what are the odds that two\n",
    "# of them share a birthday? What if it's 20 people? 40?"
   ]
  },
  {
   "cell_type": "code",
   "execution_count": 26,
   "id": "3829f540",
   "metadata": {},
   "outputs": [
    {
     "data": {
      "text/plain": [
       "21.659334179970973"
      ]
     },
     "execution_count": 26,
     "metadata": {},
     "output_type": "execute_result"
    }
   ],
   "source": [
    "outcomes = range(0, 365)\n",
    "n_simulations = 1_000_000 # number of combinations for same birth days(Birthday Paradox)\n",
    "n_trials = 23\n",
    "simulation = np.random.choice(outcomes, size =(n_simulations, n_trials))\n",
    "len(simulation[0])\n",
    "combo_bday = [len(np.unique(simulation[n])) for n in range(0, n_simulations-1) if len(np.unique(simulation[n])) < 23]\n",
    "combo_bday = np.array(combo_bday)\n",
    "combo_bday.mean()"
   ]
  },
  {
   "cell_type": "code",
   "execution_count": 27,
   "id": "a84a0b0e",
   "metadata": {},
   "outputs": [
    {
     "data": {
      "text/plain": [
       "18.756562508363565"
      ]
     },
     "execution_count": 27,
     "metadata": {},
     "output_type": "execute_result"
    }
   ],
   "source": [
    "outcomes = range(0, 365)\n",
    "n_simulations = 1_000_000 # number of combinations \n",
    "n_trials = 20\n",
    "simulation = np.random.choice(outcomes, size =(n_simulations, n_trials))\n",
    "combo_bday = [len(np.unique(simulation[n])) for n in range(0, n_simulations-1) if len(np.unique(simulation[n])) < 20]\n",
    "combo_bday = np.array(combo_bday)\n",
    "combo_bday.mean()"
   ]
  },
  {
   "cell_type": "code",
   "execution_count": 28,
   "id": "0cdf696d",
   "metadata": {},
   "outputs": [
    {
     "data": {
      "text/plain": [
       "37.68360162376376"
      ]
     },
     "execution_count": 28,
     "metadata": {},
     "output_type": "execute_result"
    }
   ],
   "source": [
    "outcomes = range(0, 365)\n",
    "n_simulations = 1_000_000 # number of combinations \n",
    "n_trials = 40\n",
    "simulation = np.random.choice(outcomes, size =(n_simulations, n_trials))\n",
    "combo_bday.mean()\n",
    "combo_bday = [len(np.unique(simulation[n])) for n in range(0, n_simulations-1) if len(np.unique(simulation[n])) < 40]\n",
    "combo_bday = np.array(combo_bday)\n",
    "combo_bday.mean()"
   ]
  }
 ],
 "metadata": {
  "kernelspec": {
   "display_name": "Python 3 (ipykernel)",
   "language": "python",
   "name": "python3"
  },
  "language_info": {
   "codemirror_mode": {
    "name": "ipython",
    "version": 3
   },
   "file_extension": ".py",
   "mimetype": "text/x-python",
   "name": "python",
   "nbconvert_exporter": "python",
   "pygments_lexer": "ipython3",
   "version": "3.9.13"
  }
 },
 "nbformat": 4,
 "nbformat_minor": 5
}
