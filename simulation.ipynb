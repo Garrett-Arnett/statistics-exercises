{
 "cells": [
  {
   "cell_type": "code",
   "execution_count": 13,
   "id": "b36011a2",
   "metadata": {},
   "outputs": [],
   "source": [
    "from pydataset import data\n",
    "from math import sqrt\n",
    "import pandas as pd\n",
    "import numpy as np\n",
    "np.random.seed(29)"
   ]
  },
  {
   "cell_type": "code",
   "execution_count": null,
   "id": "7df03320",
   "metadata": {},
   "outputs": [],
   "source": [
    "# 1. How likely is it that you roll doubles when rolling two dice?"
   ]
  },
  {
   "cell_type": "code",
   "execution_count": 14,
   "id": "17e18cbc",
   "metadata": {},
   "outputs": [
    {
     "data": {
      "text/plain": [
       "(array([6, 4, 5, ..., 4, 4, 6]), array([3, 5, 3, ..., 3, 4, 2]))"
      ]
     },
     "execution_count": 14,
     "metadata": {},
     "output_type": "execute_result"
    }
   ],
   "source": [
    "first_die = np.random.choice([1,2,3,4,5,6], size = 1_000_000)\n",
    "second_die = np.random.choice([1,2,3,4,5,6], size = 1_000_000)\n",
    "first_die, second_die"
   ]
  },
  {
   "cell_type": "code",
   "execution_count": 15,
   "id": "6769473a",
   "metadata": {},
   "outputs": [
    {
     "data": {
      "text/plain": [
       "array([False, False, False, ..., False,  True, False])"
      ]
     },
     "execution_count": 15,
     "metadata": {},
     "output_type": "execute_result"
    }
   ],
   "source": [
    "first_die == second_die"
   ]
  },
  {
   "cell_type": "code",
   "execution_count": 16,
   "id": "cd8a8258",
   "metadata": {},
   "outputs": [
    {
     "data": {
      "text/plain": [
       "0.166725"
      ]
     },
     "execution_count": 16,
     "metadata": {},
     "output_type": "execute_result"
    }
   ],
   "source": [
    "(first_die == second_die).mean()"
   ]
  },
  {
   "cell_type": "code",
   "execution_count": null,
   "id": "4bfa5237",
   "metadata": {},
   "outputs": [],
   "source": [
    "# 2. If you flip 8 coins, what is the probability of getting \n",
    "# exactly 3 heads? What is the probability of getting more \n",
    "# than 3 heads?"
   ]
  },
  {
   "cell_type": "code",
   "execution_count": null,
   "id": "e6d6e617",
   "metadata": {},
   "outputs": [],
   "source": []
  },
  {
   "cell_type": "code",
   "execution_count": null,
   "id": "bd616832",
   "metadata": {},
   "outputs": [],
   "source": [
    "# 3. There are approximitely 3 web development cohorts \n",
    "# for every 1 data science cohort at Codeup. Assuming that Codeup \n",
    "# randomly selects an alumni to put on a billboard, what are the \n",
    "# odds that the two billboards I drive past both \n",
    "# have data science students on them?"
   ]
  },
  {
   "cell_type": "code",
   "execution_count": null,
   "id": "fca4e658",
   "metadata": {},
   "outputs": [],
   "source": []
  },
  {
   "cell_type": "code",
   "execution_count": null,
   "id": "84092fea",
   "metadata": {},
   "outputs": [],
   "source": [
    "# 4. Codeup students buy, on average, 3 poptart packages with a\n",
    "# standard deviation of 1.5 a day from the snack vending machine.\n",
    "# If on monday the machine is restocked with 17 poptart packages,\n",
    "# how likely is it that I will be able to buy some poptarts on Friday\n",
    "# afternoon? (Remember, if you have mean and standard deviation, \n",
    "# use the np.random.normal) You'll need to make a judgement call on \n",
    "# how to handle some of your values"
   ]
  },
  {
   "cell_type": "code",
   "execution_count": null,
   "id": "d3fb33a8",
   "metadata": {},
   "outputs": [],
   "source": []
  },
  {
   "cell_type": "code",
   "execution_count": null,
   "id": "4be0b137",
   "metadata": {},
   "outputs": [],
   "source": [
    "# 5. Compare Heights\n",
    "\n",
    "# Men have an average height of 178 cm and standard deviation of 8cm.\n",
    "# Women have a mean of 170, sd = 6cm.\n",
    "# Since you have means and standard deviations, you can use\n",
    "# np.random.normal to generate observations.\n",
    "# If a man and woman are chosen at random, what is the\n",
    "# likelihood the woman is taller than the man?"
   ]
  },
  {
   "cell_type": "code",
   "execution_count": null,
   "id": "63af6e89",
   "metadata": {},
   "outputs": [],
   "source": []
  },
  {
   "cell_type": "code",
   "execution_count": null,
   "id": "14b34d37",
   "metadata": {},
   "outputs": [],
   "source": [
    "# 6. When installing anaconda on a student's computer, there's a \n",
    "# 1 in 250 chance that the download is corrupted and the \n",
    "# installation fails. What are the odds that after having 50 \n",
    "# students download anaconda, no one has an installation issue? \n",
    "# 100 students?\n",
    "\n",
    "# What is the probability that we observe an installation issue\n",
    "# within the first 150 students that download anaconda?\n",
    "\n",
    "# How likely is it that 450 students all download anaconda without \n",
    "# an issue?\n",
    "\n"
   ]
  },
  {
   "cell_type": "code",
   "execution_count": null,
   "id": "03424e76",
   "metadata": {},
   "outputs": [],
   "source": []
  },
  {
   "cell_type": "code",
   "execution_count": null,
   "id": "8cebb929",
   "metadata": {},
   "outputs": [],
   "source": [
    "# 7. There's a 70% chance on any given day that there will be at \n",
    "# least one food truck at Travis Park. However, you haven't\n",
    "# seen a food truck there in 3 days. How unlikely is this?\n",
    "\n",
    "# How likely is it that a food truck will show up sometime this week?"
   ]
  },
  {
   "cell_type": "code",
   "execution_count": null,
   "id": "1ab48d09",
   "metadata": {},
   "outputs": [],
   "source": []
  },
  {
   "cell_type": "code",
   "execution_count": null,
   "id": "20ccada7",
   "metadata": {},
   "outputs": [],
   "source": [
    "# 8. If 23 people are in the same room, what are the odds that two\n",
    "# of them share a birthday? What if it's 20 people? 40?"
   ]
  },
  {
   "cell_type": "code",
   "execution_count": null,
   "id": "2d9da40c",
   "metadata": {},
   "outputs": [],
   "source": []
  }
 ],
 "metadata": {
  "kernelspec": {
   "display_name": "Python 3 (ipykernel)",
   "language": "python",
   "name": "python3"
  },
  "language_info": {
   "codemirror_mode": {
    "name": "ipython",
    "version": 3
   },
   "file_extension": ".py",
   "mimetype": "text/x-python",
   "name": "python",
   "nbconvert_exporter": "python",
   "pygments_lexer": "ipython3",
   "version": "3.9.13"
  }
 },
 "nbformat": 4,
 "nbformat_minor": 5
}
