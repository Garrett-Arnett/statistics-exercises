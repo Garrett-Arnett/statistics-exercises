{
 "cells": [
  {
   "cell_type": "code",
   "execution_count": 3,
   "id": "21faca80",
   "metadata": {},
   "outputs": [
    {
     "ename": "NameError",
     "evalue": "name 'env' is not defined",
     "output_type": "error",
     "traceback": [
      "\u001b[0;31m---------------------------------------------------------------------------\u001b[0m",
      "\u001b[0;31mNameError\u001b[0m                                 Traceback (most recent call last)",
      "\u001b[0;32m/var/folders/f5/r0cvcy8d6bl6nqmwjp01nhjh0000gn/T/ipykernel_2341/1441410766.py\u001b[0m in \u001b[0;36m<module>\u001b[0;34m\u001b[0m\n\u001b[1;32m      6\u001b[0m \u001b[0;32mfrom\u001b[0m \u001b[0mscipy\u001b[0m \u001b[0;32mimport\u001b[0m \u001b[0mstats\u001b[0m\u001b[0;34m\u001b[0m\u001b[0;34m\u001b[0m\u001b[0m\n\u001b[1;32m      7\u001b[0m \u001b[0;32mimport\u001b[0m \u001b[0mseaborn\u001b[0m \u001b[0;32mas\u001b[0m \u001b[0msns\u001b[0m\u001b[0;34m\u001b[0m\u001b[0;34m\u001b[0m\u001b[0m\n\u001b[0;32m----> 8\u001b[0;31m \u001b[0;32mimport\u001b[0m \u001b[0menv\u001b[0m\u001b[0;34m\u001b[0m\u001b[0;34m\u001b[0m\u001b[0m\n\u001b[0m",
      "\u001b[0;32m~/codeup-data-science/statistics-exercises/env.py\u001b[0m in \u001b[0;36m<module>\u001b[0;34m\u001b[0m\n\u001b[1;32m      3\u001b[0m \u001b[0mpassword\u001b[0m \u001b[0;34m=\u001b[0m \u001b[0;34m'ViV8nhvv3ZcQnWldJWuhuKu2ojdz0aCU'\u001b[0m\u001b[0;34m\u001b[0m\u001b[0;34m\u001b[0m\u001b[0m\n\u001b[1;32m      4\u001b[0m \u001b[0;34m\u001b[0m\u001b[0m\n\u001b[0;32m----> 5\u001b[0;31m \u001b[0murl\u001b[0m \u001b[0;34m=\u001b[0m \u001b[0;34mf'mysql+pymysql://{env.user}:{env.password}@{env.host}/employees'\u001b[0m\u001b[0;34m\u001b[0m\u001b[0;34m\u001b[0m\u001b[0m\n\u001b[0m\u001b[1;32m      6\u001b[0m \u001b[0;34m\u001b[0m\u001b[0m\n\u001b[1;32m      7\u001b[0m \u001b[0mtelco_churn\u001b[0m \u001b[0;34m=\u001b[0m \u001b[0mtelco_churn\u001b[0m\u001b[0;34m.\u001b[0m\u001b[0mcsv\u001b[0m\u001b[0;34m\u001b[0m\u001b[0;34m\u001b[0m\u001b[0m\n",
      "\u001b[0;31mNameError\u001b[0m: name 'env' is not defined"
     ]
    }
   ],
   "source": [
    "from pydataset import data\n",
    "%matplotlib inline\n",
    "import pandas as pd \n",
    "import matplotlib.pyplot as plt\n",
    "import numpy as np\n",
    "from scipy import stats\n",
    "import seaborn as sns\n",
    "import env"
   ]
  },
  {
   "cell_type": "markdown",
   "id": "e9bae3aa",
   "metadata": {},
   "source": [
    "1. Answer with the type of test you would use (assume normal distribution):\n",
    "\n",
    "- Is there a difference in grades of students on the second floor compared to grades of all students?\n",
    "- Are adults who drink milk taller than adults who dont drink milk?\n",
    "- Is the the price of gas higher in texas or in new mexico?\n",
    "- Are there differences in stress levels between students who take data science vs students who take web development vs students who take cloud academy?"
   ]
  },
  {
   "cell_type": "code",
   "execution_count": null,
   "id": "c7e1f866",
   "metadata": {},
   "outputs": [],
   "source": [
    "# Is there a difference in grades of students on the second floor \n",
    "# compared to grades of all students?\n",
    "\n",
    "# two-tailed one-sample t-test."
   ]
  },
  {
   "cell_type": "code",
   "execution_count": null,
   "id": "ffe29130",
   "metadata": {},
   "outputs": [],
   "source": [
    "# Are adults who drink milk taller than adults who dont drink milk?\n",
    "\n",
    "# one tailed, two sample t-test."
   ]
  },
  {
   "cell_type": "code",
   "execution_count": null,
   "id": "bf68df01",
   "metadata": {},
   "outputs": [],
   "source": [
    "# Is the the price of gas higher in texas or in new mexico?\n",
    "\n",
    "# one-tailed two sample samples t-test"
   ]
  },
  {
   "cell_type": "code",
   "execution_count": null,
   "id": "9b1025de",
   "metadata": {},
   "outputs": [],
   "source": [
    "# Are there differences in stress levels between students who take\n",
    "# data science vs students who take web development vs \n",
    "# students who take cloud academy?\n",
    "\n",
    "\n",
    "\n",
    "# ANOVA Analysis of Variance"
   ]
  },
  {
   "cell_type": "code",
   "execution_count": null,
   "id": "e6fd49e3",
   "metadata": {},
   "outputs": [],
   "source": []
  },
  {
   "cell_type": "code",
   "execution_count": null,
   "id": "1d694690",
   "metadata": {},
   "outputs": [],
   "source": []
  },
  {
   "cell_type": "markdown",
   "id": "90022ddb",
   "metadata": {},
   "source": [
    "Ace Realty wants to determine whether the average time it takes to sell homes is different for its two offices. A sample of 40 sales from office #1 revealed a mean of 90 days and a standard deviation of 15 days. A sample of 50 sales from office #2 revealed a mean of 100 days and a standard deviation of 20 days. Use a .05 level of significance."
   ]
  },
  {
   "cell_type": "code",
   "execution_count": null,
   "id": "813ade9a",
   "metadata": {},
   "outputs": [],
   "source": [
    "mean1 = 90 \n",
    "std1 = 15 \n",
    "sample1 = 40\n",
    "#Office 2\n",
    "mean2 = 100 \n",
    "std2 = 20 \n",
    "sample2 = 50\n",
    "\n",
    "α = .05"
   ]
  },
  {
   "cell_type": "code",
   "execution_count": null,
   "id": "0afa2076",
   "metadata": {},
   "outputs": [],
   "source": [
    "null_hypo = 'There is no significant change in averge time to sell homes between the two offices'\n",
    "alt_hypo = 'There is a difference in the average time it takes to sell a home between each office'\n",
    "confidence_level = .95\n",
    "α = 1 - confidence_level"
   ]
  },
  {
   "cell_type": "code",
   "execution_count": null,
   "id": "15c51273",
   "metadata": {},
   "outputs": [],
   "source": [
    "from scipy.stats import ttest_ind_from_stats\n",
    "t, p = ttest_ind_from_stats(mean1, std1, sample1, mean2, std2, sample2)\n",
    "t, p"
   ]
  },
  {
   "cell_type": "code",
   "execution_count": null,
   "id": "b63c3f37",
   "metadata": {},
   "outputs": [],
   "source": [
    "if (p/2) < α:\n",
    "    print(\"Reject the null hypothesis\")\n",
    "else: \n",
    "    print(\"Fail to reject the null hypothesis\")"
   ]
  },
  {
   "cell_type": "code",
   "execution_count": null,
   "id": "6a6848c5",
   "metadata": {},
   "outputs": [],
   "source": [
    "x = np.arange(50,150)\n",
    "\n",
    "y1 = stats.norm(90,15).pdf(x)\n",
    "y2 = stats.norm(100,20).pdf(x)\n",
    "\n",
    "plt.plot(x, y1, label = 'office 1')\n",
    "plt.plot(x, y2, label = 'office 2')\n",
    "plt.axvline(90, ls = ':')\n",
    "plt.axvline(100, ls = ':', color = 'orange')\n",
    "\n",
    "plt.legend()"
   ]
  },
  {
   "cell_type": "code",
   "execution_count": null,
   "id": "d8909f68",
   "metadata": {},
   "outputs": [],
   "source": []
  },
  {
   "cell_type": "code",
   "execution_count": null,
   "id": "a6adadbc",
   "metadata": {},
   "outputs": [],
   "source": []
  },
  {
   "cell_type": "code",
   "execution_count": null,
   "id": "49f19e0a",
   "metadata": {},
   "outputs": [],
   "source": []
  },
  {
   "cell_type": "code",
   "execution_count": null,
   "id": "9fdf69f7",
   "metadata": {},
   "outputs": [],
   "source": []
  },
  {
   "cell_type": "code",
   "execution_count": null,
   "id": "0a5512bc",
   "metadata": {},
   "outputs": [],
   "source": []
  },
  {
   "cell_type": "code",
   "execution_count": null,
   "id": "5a445831",
   "metadata": {},
   "outputs": [],
   "source": []
  },
  {
   "cell_type": "code",
   "execution_count": null,
   "id": "ad938e18",
   "metadata": {},
   "outputs": [],
   "source": []
  },
  {
   "cell_type": "code",
   "execution_count": null,
   "id": "d054036f",
   "metadata": {},
   "outputs": [],
   "source": []
  },
  {
   "cell_type": "code",
   "execution_count": null,
   "id": "7851eab3",
   "metadata": {},
   "outputs": [],
   "source": []
  },
  {
   "cell_type": "code",
   "execution_count": null,
   "id": "daff2db0",
   "metadata": {},
   "outputs": [],
   "source": []
  },
  {
   "cell_type": "markdown",
   "id": "b4f6f0ea",
   "metadata": {},
   "source": [
    "3. Load the mpg dataset and use it to answer the following questions:\n",
    "\n",
    "- Is there a difference in fuel-efficiency in cars from 2008 vs 1999?\n",
    "- Are compact cars more fuel-efficient than the average car?\n",
    "- Do manual cars get better gas mileage than automatic cars?"
   ]
  },
  {
   "cell_type": "code",
   "execution_count": null,
   "id": "ef84525f",
   "metadata": {},
   "outputs": [],
   "source": [
    "mpg = data('mpg')\n",
    "mpg.head(3)\n"
   ]
  },
  {
   "cell_type": "code",
   "execution_count": null,
   "id": "891e7add",
   "metadata": {},
   "outputs": [],
   "source": [
    "#1. Is there a difference in fuel-efficiency in cars from 2008 vs 1999?"
   ]
  },
  {
   "cell_type": "code",
   "execution_count": null,
   "id": "b6a0e2e0",
   "metadata": {},
   "outputs": [],
   "source": [
    "mpg['avg_fe'] = stats.hmean(mpg[['cty', 'hwy']], axis =1) \n",
    "\n",
    "mpg.head()\n"
   ]
  },
  {
   "cell_type": "code",
   "execution_count": null,
   "id": "4aa043ca",
   "metadata": {},
   "outputs": [],
   "source": [
    "fe_2008 = mpg[mpg.year == 2008].avg_fe\n",
    "fe_1999 = mpg[mpg.year == 1999].avg_fe\n",
    "\n",
    "t, p = stats.ttest_ind(fe_2008, fe_1999)\n",
    "t, p"
   ]
  },
  {
   "cell_type": "code",
   "execution_count": null,
   "id": "78366319",
   "metadata": {},
   "outputs": [],
   "source": [
    "α = 0.05\n",
    "p < α\n",
    "# fail to reject the null hypothesis that there is no difference \n",
    "# in fuel-efficency in cars from 2008 and 1999."
   ]
  },
  {
   "cell_type": "code",
   "execution_count": null,
   "id": "2a2e7f4b",
   "metadata": {},
   "outputs": [],
   "source": [
    "fe_1999.mean()"
   ]
  },
  {
   "cell_type": "code",
   "execution_count": null,
   "id": "ab2da06b",
   "metadata": {},
   "outputs": [],
   "source": [
    "fe_2008.mean()"
   ]
  },
  {
   "cell_type": "code",
   "execution_count": null,
   "id": "5652e3fd",
   "metadata": {},
   "outputs": [],
   "source": [
    "plt.hist([fe_1999, fe_2008], label=['1999 cars', '2008 cars'])\n",
    "plt.legend()"
   ]
  },
  {
   "cell_type": "code",
   "execution_count": null,
   "id": "1945b397",
   "metadata": {},
   "outputs": [],
   "source": []
  },
  {
   "cell_type": "code",
   "execution_count": null,
   "id": "289673a6",
   "metadata": {},
   "outputs": [],
   "source": []
  },
  {
   "cell_type": "code",
   "execution_count": null,
   "id": "0f9f03a1",
   "metadata": {},
   "outputs": [],
   "source": []
  },
  {
   "cell_type": "code",
   "execution_count": null,
   "id": "e4b19327",
   "metadata": {},
   "outputs": [],
   "source": [
    "#2. Are compact cars more fuel-efficient than the average car?"
   ]
  },
  {
   "cell_type": "markdown",
   "id": "34f03ade",
   "metadata": {},
   "source": [
    "Hypo - there is a difference in fuel-efficiency between compact cars and the overall average\n",
    "\n",
    "\n",
    "Null - there is no difference in fuel-efficiency between compact cars and the overall average"
   ]
  },
  {
   "cell_type": "code",
   "execution_count": null,
   "id": "40f1b2c9",
   "metadata": {},
   "outputs": [],
   "source": [
    "fe_compact = mpg[mpg['class'] == 'compact'].avg_fe\n",
    "μ = mpg.avg_fe.mean()\n",
    "\n",
    "t, p = stats.ttest_1samp(fe_compact, μ)\n",
    "t, p"
   ]
  },
  {
   "cell_type": "code",
   "execution_count": null,
   "id": "dfc234db",
   "metadata": {},
   "outputs": [],
   "source": [
    "α = 0.05\n",
    "p/2 < α"
   ]
  },
  {
   "cell_type": "code",
   "execution_count": null,
   "id": "53f612b3",
   "metadata": {},
   "outputs": [],
   "source": [
    "# we reject the null hypothesis that there is no difference in \n",
    "# fuel-efficiency between compact cars and the overall average."
   ]
  },
  {
   "cell_type": "code",
   "execution_count": null,
   "id": "2816545e",
   "metadata": {},
   "outputs": [],
   "source": []
  },
  {
   "cell_type": "code",
   "execution_count": null,
   "id": "2ebfdb5c",
   "metadata": {},
   "outputs": [],
   "source": [
    "#3. Do manual cars get better gas mileage than automatic cars?"
   ]
  },
  {
   "cell_type": "markdown",
   "id": "074d33bf",
   "metadata": {},
   "source": [
    "hypo - there is a difference in gas mileage between manual and automatic cars\n",
    "\n",
    "\n",
    "null - there is no difference in gas mileage between manual and automatic cars"
   ]
  },
  {
   "cell_type": "code",
   "execution_count": null,
   "id": "65809852",
   "metadata": {},
   "outputs": [],
   "source": [
    "fe_auto = mpg[mpg.trans.str.contains('auto')].avg_fe\n",
    "fe_manual = mpg[mpg.trans.str.contains('manual')].avg_fe\n",
    "\n",
    "t, p = stats.ttest_ind(fe_manual, fe_auto)\n",
    "t, p"
   ]
  },
  {
   "cell_type": "code",
   "execution_count": null,
   "id": "3702a25a",
   "metadata": {},
   "outputs": [],
   "source": [
    "p/2 < α and t > 0"
   ]
  },
  {
   "cell_type": "code",
   "execution_count": null,
   "id": "b35e5645",
   "metadata": {},
   "outputs": [],
   "source": [
    "# we reject the null hypothesis that there is no difference in gas\n",
    "# mileage between manual and automatic cars"
   ]
  },
  {
   "cell_type": "code",
   "execution_count": null,
   "id": "16736b64",
   "metadata": {},
   "outputs": [],
   "source": [
    "mpg['transmission_type'] = np.where(mpg.trans.str.contains('auto'), 'Auto Transmission', 'Manual Transmission')\n"
   ]
  },
  {
   "cell_type": "code",
   "execution_count": null,
   "id": "e5685c46",
   "metadata": {},
   "outputs": [],
   "source": [
    "mpg.groupby('transmission_type').avg_fe.mean().plot.bar()\n",
    "plt.xticks(rotation=0)\n",
    "plt.xlabel('')\n",
    "plt.ylabel('Average Mileage')\n",
    "plt.title('Is mileage different by transmission type?')\n",
    "plt.show()"
   ]
  },
  {
   "cell_type": "markdown",
   "id": "96b733ef",
   "metadata": {},
   "source": [
    "1. Answer with the type of stats test you would use (assume normal distribution):\n",
    "- Is there a relationship between the length of your arm and the length of your foot?\n",
    "- Do guys and gals quit their jobs at the same rate?\n",
    "- Does the length of time of the lecture correlate with a students grade?"
   ]
  },
  {
   "cell_type": "code",
   "execution_count": null,
   "id": "d9ad296d",
   "metadata": {},
   "outputs": [],
   "source": [
    "# a. Pearson r correlation test\n",
    "\n",
    "# b. chi2 test\n",
    "\n",
    "# c. pearson r"
   ]
  },
  {
   "cell_type": "code",
   "execution_count": null,
   "id": "0cba573f",
   "metadata": {},
   "outputs": [],
   "source": []
  },
  {
   "cell_type": "markdown",
   "id": "20853cf1",
   "metadata": {},
   "source": [
    "2. Use the telco_churn data.\n",
    "- Does tenure correlate with monthly charges?\n",
    "- Total charges?\n",
    "- What happens if you control for phone and internet service?"
   ]
  },
  {
   "cell_type": "code",
   "execution_count": null,
   "id": "0ba65ac2",
   "metadata": {},
   "outputs": [],
   "source": [
    "url = f'mysql+pymysql://{env.user}:{env.password}@{env.host}/telco_churn'"
   ]
  },
  {
   "cell_type": "code",
   "execution_count": null,
   "id": "d3459af2",
   "metadata": {},
   "outputs": [],
   "source": [
    "sql_query = '''SELECT *\n",
    "               FROM customers\n",
    "               JOIN internet_service_types USING (internet_service_type_id)'''"
   ]
  },
  {
   "cell_type": "code",
   "execution_count": null,
   "id": "c04c3ccd",
   "metadata": {},
   "outputs": [],
   "source": [
    "df = pd.read_sql(sql_query, url)\n",
    "df"
   ]
  },
  {
   "cell_type": "code",
   "execution_count": null,
   "id": "cea710c8",
   "metadata": {},
   "outputs": [],
   "source": [
    "df = df[['tenure', 'monthly_charges', 'total_charges', 'internet_service_type', 'phone_service']]\n",
    "df"
   ]
  },
  {
   "cell_type": "markdown",
   "id": "82034c55",
   "metadata": {},
   "source": [
    "## Does tenure correlate with monthly charges?"
   ]
  },
  {
   "cell_type": "markdown",
   "id": "ac320fe8",
   "metadata": {},
   "source": [
    "H$_0$ : There is no linear relationship between tenure and monthly charges\n",
    "\n",
    "H$_a$: There is a linear relationship between tenure and monthly charges"
   ]
  },
  {
   "cell_type": "code",
   "execution_count": null,
   "id": "66cc5f4a",
   "metadata": {},
   "outputs": [],
   "source": [
    "df = pd.read_csv('telco_churn.csv')\n",
    "df"
   ]
  },
  {
   "cell_type": "code",
   "execution_count": null,
   "id": "be5a8c17",
   "metadata": {},
   "outputs": [],
   "source": [
    "df_filtered = df[~np.isnan(df[['tenure', 'TotalCharges']]).any(axis=1)]\n"
   ]
  },
  {
   "cell_type": "code",
   "execution_count": null,
   "id": "cc0edf66",
   "metadata": {},
   "outputs": [],
   "source": [
    "df.plot.scatter(y='MonthlyCharges', x='tenure')"
   ]
  },
  {
   "cell_type": "code",
   "execution_count": null,
   "id": "d9a8e428",
   "metadata": {},
   "outputs": [],
   "source": [
    "alpha = 0.05\n",
    "r, p = stats.pearsonr(df.tenure, df.MonthlyCharges)\n",
    "r, p"
   ]
  },
  {
   "cell_type": "code",
   "execution_count": null,
   "id": "104752d4",
   "metadata": {},
   "outputs": [],
   "source": [
    "if p < alpha:\n",
    "    print('Reject the null hypothesis')\n",
    "else:\n",
    "    print('Fail to reject the null hypothesis')"
   ]
  },
  {
   "cell_type": "code",
   "execution_count": null,
   "id": "faefbb65",
   "metadata": {},
   "outputs": [],
   "source": [
    "#  we reject the null hypothesis that there is no linear relationship between tenure and monthly charges"
   ]
  },
  {
   "cell_type": "markdown",
   "id": "dc325051",
   "metadata": {},
   "source": [
    "## Total charges?"
   ]
  },
  {
   "cell_type": "markdown",
   "id": "f9a74ade",
   "metadata": {},
   "source": [
    "H$_0$ : There is no linear relationship between tenure and total charges.\n",
    "\n",
    "H$_a$ : There is a linear relationship between tenure and total charges."
   ]
  },
  {
   "cell_type": "code",
   "execution_count": null,
   "id": "e8efed22",
   "metadata": {},
   "outputs": [],
   "source": [
    "print(df.dtypes)"
   ]
  },
  {
   "cell_type": "code",
   "execution_count": null,
   "id": "3ef2c00e",
   "metadata": {},
   "outputs": [],
   "source": []
  },
  {
   "cell_type": "code",
   "execution_count": null,
   "id": "23eb9e4b",
   "metadata": {},
   "outputs": [],
   "source": [
    "stats.pearsonr(df_filtered.tenure, df_filtered.TotalCharges)"
   ]
  },
  {
   "cell_type": "code",
   "execution_count": null,
   "id": "def2f14f",
   "metadata": {},
   "outputs": [],
   "source": [
    "if p < alpha:\n",
    "    print('Reject the null hypothesis')\n",
    "else:\n",
    "    print('Fail to reject the null hypothesis')"
   ]
  },
  {
   "cell_type": "code",
   "execution_count": null,
   "id": "cc3a9b92",
   "metadata": {},
   "outputs": [],
   "source": [
    "# we reject the null hypothesis where there is no linear relationship between tenure and total charges."
   ]
  },
  {
   "cell_type": "markdown",
   "id": "bb04b509",
   "metadata": {},
   "source": [
    "## Controlling for Phone and Internet Services"
   ]
  },
  {
   "cell_type": "code",
   "execution_count": null,
   "id": "3e0869e4",
   "metadata": {},
   "outputs": [],
   "source": [
    "def corr_tenure_and_monthly(df):\n",
    "    # returns the results of a pearson's r corr test run on the dataframe\n",
    "    return pd.Series(stats.pearsonr(df.tenure, df.monthly_charges), index = ['r', 'p'])"
   ]
  },
  {
   "cell_type": "code",
   "execution_count": null,
   "id": "91cfce6b",
   "metadata": {},
   "outputs": [],
   "source": [
    "df.groupby(['internet_service_type', 'phone_service']).apply(corr_tenure_and_monthly)\n"
   ]
  },
  {
   "cell_type": "code",
   "execution_count": null,
   "id": "a783a007",
   "metadata": {},
   "outputs": [],
   "source": [
    "df.groupby(['phone_service']).apply(corr_tenure_and_monthly)\n"
   ]
  },
  {
   "cell_type": "code",
   "execution_count": null,
   "id": "74c46bd8",
   "metadata": {},
   "outputs": [],
   "source": [
    "sns.relplot(data=df, y='monthly_charges', x='tenure', col='internet_service_type', row='phone_service')\n"
   ]
  },
  {
   "cell_type": "code",
   "execution_count": null,
   "id": "87c48039",
   "metadata": {},
   "outputs": [],
   "source": [
    "stats.pearsonr(df_filtered.tenure, df_filtered.TotalCharges)"
   ]
  },
  {
   "cell_type": "code",
   "execution_count": null,
   "id": "2989d1c7",
   "metadata": {},
   "outputs": [],
   "source": [
    "P < α\n",
    "\n",
    "# we reject the null hypothesis"
   ]
  },
  {
   "cell_type": "markdown",
   "id": "5ae10466",
   "metadata": {},
   "source": [
    "# 3. Use the employees database.\n",
    "- Is there a relationship between how long an employee has been with -- the company and their salary?\n",
    "- Is there a relationship between how long an employee has been with the company and the number of titles they have had?"
   ]
  },
  {
   "cell_type": "code",
   "execution_count": null,
   "id": "9eea01bf",
   "metadata": {},
   "outputs": [],
   "source": [
    "url = f'mysql+pymysql://{env.user}:{env.password}@{env.host}/employees'"
   ]
  },
  {
   "cell_type": "code",
   "execution_count": null,
   "id": "062f47c9",
   "metadata": {},
   "outputs": [],
   "source": [
    "query = '''\n",
    "SELECT\n",
    "    DATEDIFF((SELECT MAX(hire_date) FROM employees), e.hire_date) AS tenure,\n",
    "    s.salary AS salary\n",
    "FROM employees e\n",
    "JOIN salaries s USING (emp_no)\n",
    "WHERE s.to_date > NOW()\n",
    "'''"
   ]
  },
  {
   "cell_type": "code",
   "execution_count": null,
   "id": "82c79cf8",
   "metadata": {},
   "outputs": [],
   "source": [
    "ews = pd.read_sql(query, url)\n",
    "ews"
   ]
  },
  {
   "cell_type": "markdown",
   "id": "ec09dad3",
   "metadata": {},
   "source": [
    "H$_0$ : There is no linear relationship between employee tenure and their salary\n",
    "\n",
    "H$_a$ : There is a linear relationship between employee tenure and their salary"
   ]
  },
  {
   "cell_type": "markdown",
   "id": "46b90e24",
   "metadata": {},
   "source": [
    "## Is there a relationship between how long an employee has been with the company and their salary?"
   ]
  },
  {
   "cell_type": "code",
   "execution_count": null,
   "id": "8659bfd6",
   "metadata": {},
   "outputs": [],
   "source": [
    "r, p = stats.pearsonr(employees_with_salaries.tenure, employees_with_salaries.salary)\n",
    "r, p"
   ]
  },
  {
   "cell_type": "code",
   "execution_count": null,
   "id": "747186e7",
   "metadata": {},
   "outputs": [],
   "source": [
    "p < α"
   ]
  },
  {
   "cell_type": "code",
   "execution_count": null,
   "id": "88ecd32c",
   "metadata": {},
   "outputs": [],
   "source": [
    "# We can reject the null hypothesis that there is no linear relationship between employee tenure and their salary"
   ]
  },
  {
   "cell_type": "code",
   "execution_count": null,
   "id": "f8384721",
   "metadata": {},
   "outputs": [],
   "source": [
    "sns.relplot(data=employees_with_salaries, y='salary', x='tenure')\n"
   ]
  },
  {
   "cell_type": "markdown",
   "id": "ca346ed4",
   "metadata": {},
   "source": [
    "## Is there a relationship between how long an employee has been with the company and the number of titles they have had?"
   ]
  },
  {
   "cell_type": "code",
   "execution_count": null,
   "id": "7f1ee08a",
   "metadata": {},
   "outputs": [],
   "source": [
    "query = '''\n",
    "SELECT\n",
    "    e.emp_no,\n",
    "    DATEDIFF((SELECT MAX(hire_date) FROM employees), e.hire_date) AS tenure,\n",
    "    n_titles\n",
    "FROM employees e\n",
    "JOIN (\n",
    "    SELECT emp_no, COUNT(*) as n_titles\n",
    "    FROM employees e\n",
    "    JOIN titles t USING (emp_no)\n",
    "    GROUP BY emp_no\n",
    ") emp_title_count USING (emp_no)\n",
    "'''"
   ]
  },
  {
   "cell_type": "code",
   "execution_count": null,
   "id": "83e733dc",
   "metadata": {},
   "outputs": [],
   "source": [
    "ewt = pd.read_sql(query, url)\n",
    "ewt"
   ]
  },
  {
   "cell_type": "markdown",
   "id": "b0eb39f2",
   "metadata": {},
   "source": [
    "H$_0$ : There's no linear relationship between employee tenure and number of titles\n",
    "\n",
    "H$_a$ : There's a linear relationship between employee tenure and number of titles"
   ]
  },
  {
   "cell_type": "code",
   "execution_count": null,
   "id": "367bfeed",
   "metadata": {},
   "outputs": [],
   "source": [
    "r, p = stats.pearsonr(ewt.tenure, ewt.n_titles)\n"
   ]
  },
  {
   "cell_type": "code",
   "execution_count": null,
   "id": "55580faa",
   "metadata": {},
   "outputs": [],
   "source": [
    "p < α"
   ]
  },
  {
   "cell_type": "code",
   "execution_count": null,
   "id": "0c934811",
   "metadata": {},
   "outputs": [],
   "source": [
    "# we can reject the null hypothesis that there's no linear relationship between employee tenure and number of titles\n",
    "\n"
   ]
  },
  {
   "cell_type": "markdown",
   "id": "ab4d00e0",
   "metadata": {},
   "source": [
    "## 4.Use the sleepstudy data.\n",
    "- Is there a relationship between days and reaction time?\n",
    "\n"
   ]
  },
  {
   "cell_type": "code",
   "execution_count": null,
   "id": "91a7bdcd",
   "metadata": {},
   "outputs": [],
   "source": [
    "sleep = data('sleepstudy')\n",
    "sleep.head()\n"
   ]
  },
  {
   "cell_type": "markdown",
   "id": "b1864ee4",
   "metadata": {},
   "source": [
    "H$_0$ : there is no linear relationship between reaction time and number of days\n",
    "\n",
    "H$_a$ : there is a linear relationship between reaction time and number of days"
   ]
  },
  {
   "cell_type": "code",
   "execution_count": null,
   "id": "066e01c5",
   "metadata": {},
   "outputs": [],
   "source": [
    "r, p = stats.pearsonr(sleep.Reaction, sleep.Days) \n",
    "p < α\n",
    "# We reject the null hypothesis where there is no linear relationship between reaction time and number of days\n"
   ]
  },
  {
   "cell_type": "code",
   "execution_count": null,
   "id": "2f9b4189",
   "metadata": {},
   "outputs": [],
   "source": [
    "sns.lmplot(data=sleep, y='Reaction', x='Days')\n"
   ]
  },
  {
   "cell_type": "code",
   "execution_count": null,
   "id": "dfa38c2d",
   "metadata": {},
   "outputs": [],
   "source": []
  },
  {
   "cell_type": "code",
   "execution_count": null,
   "id": "35131918",
   "metadata": {},
   "outputs": [],
   "source": []
  },
  {
   "cell_type": "markdown",
   "id": "547022b8",
   "metadata": {},
   "source": [
    "# Comparison of groups Exercise"
   ]
  },
  {
   "cell_type": "markdown",
   "id": "5ce7dd55",
   "metadata": {},
   "source": [
    "## 1. Answer with the type of stats test you would use (assume normal distribution):\n",
    "\n",
    "- A. Do students get better test grades if they have a rubber duck on their desk?\n",
    "- B.Does smoking affect when or not someone has lung cancer?\n",
    "- C. Is gender independent of a person’s blood type?\n",
    "- D. A farming company wants to know if a new fertilizer has improved crop yield or not\n",
    "- E. Does the length of time of the lecture correlate with a students grade?\n",
    "- F. Do people with dogs live in apartments more than people with cats?\n"
   ]
  },
  {
   "cell_type": "markdown",
   "id": "d67da215",
   "metadata": {},
   "source": [
    "A. ttest\n",
    "B. Chi-chi square test\n",
    "C. Chi-chi square test\n",
    "D. Two-sample t-test \n",
    "E. Pearson correlation coefficient or Spearman correlation coefficient.\n",
    "F. Chi-square test or logistic regression analysis.\n",
    "'''"
   ]
  },
  {
   "cell_type": "markdown",
   "id": "6b37101b",
   "metadata": {},
   "source": [
    "## 2. Use the following contingency table to help answer the question of whether using a macbook and being a codeup student are independent of each other.\n",
    "\n",
    "                \n",
    "                            Codeup Student Not Codeup Student\n",
    "            Uses a Macbook \t49\t         20\n",
    "    Doesn't Use A Macbook\t  1              30"
   ]
  },
  {
   "cell_type": "markdown",
   "id": "1733b9df",
   "metadata": {},
   "source": [
    "H$_0$ : there is no association between being a codeup student and using a macbook\n",
    "\n",
    "H$_a$ : there is a association between being a codeup student and using a macbook"
   ]
  },
  {
   "cell_type": "code",
   "execution_count": null,
   "id": "7cadb4cd",
   "metadata": {},
   "outputs": [],
   "source": [
    "α = 0.05"
   ]
  },
  {
   "cell_type": "code",
   "execution_count": null,
   "id": "029198c4",
   "metadata": {},
   "outputs": [],
   "source": [
    "observed = [[49,20],[1,30]]\n",
    "observed"
   ]
  },
  {
   "cell_type": "code",
   "execution_count": null,
   "id": "3e67e204",
   "metadata": {},
   "outputs": [],
   "source": [
    "observed = pd.DataFrame(observed)\n",
    "observed"
   ]
  },
  {
   "cell_type": "code",
   "execution_count": null,
   "id": "40560379",
   "metadata": {},
   "outputs": [],
   "source": [
    "chi2, p, degf, expected = stats.chi2_contingency(observed)"
   ]
  },
  {
   "cell_type": "code",
   "execution_count": null,
   "id": "694638f2",
   "metadata": {},
   "outputs": [],
   "source": [
    "chi2, p"
   ]
  },
  {
   "cell_type": "code",
   "execution_count": null,
   "id": "6727fa93",
   "metadata": {},
   "outputs": [],
   "source": [
    "p < α\n",
    "\n",
    "# We reject the null hypotheses that there is no association between being a codeup student and using a macbook"
   ]
  },
  {
   "cell_type": "markdown",
   "id": "b6c1b1d8",
   "metadata": {},
   "source": [
    "## 2. Choose another 2 categorical variables from the mpg dataset and perform a chi^2 contingency table test with them. Be sure to state your null and alternative hypotheses."
   ]
  },
  {
   "cell_type": "code",
   "execution_count": null,
   "id": "556b644f",
   "metadata": {},
   "outputs": [],
   "source": [
    "from pydataset import data"
   ]
  },
  {
   "cell_type": "code",
   "execution_count": null,
   "id": "06604dd6",
   "metadata": {},
   "outputs": [],
   "source": [
    "mpg = data('mpg')\n",
    "mpg"
   ]
  },
  {
   "cell_type": "markdown",
   "id": "ac5d8f35",
   "metadata": {},
   "source": [
    "H$_0$ : there is no association between cylinder and highway mileage\n",
    "\n",
    "H$_a$ : there is a association between cylinder and highway mileage"
   ]
  },
  {
   "cell_type": "code",
   "execution_count": null,
   "id": "637d6560",
   "metadata": {},
   "outputs": [],
   "source": [
    "observed = pd.crosstab(mpg.hwy, mpg.cyl)\n",
    "observed"
   ]
  },
  {
   "cell_type": "code",
   "execution_count": null,
   "id": "e67bd951",
   "metadata": {},
   "outputs": [],
   "source": [
    "chi2, p, degf, expected = stats.chi2_contingency(observed)"
   ]
  },
  {
   "cell_type": "code",
   "execution_count": null,
   "id": "4a5e4974",
   "metadata": {},
   "outputs": [],
   "source": [
    "chi2, p"
   ]
  },
  {
   "cell_type": "code",
   "execution_count": null,
   "id": "e96bfa99",
   "metadata": {},
   "outputs": [],
   "source": [
    "p < α\n",
    "\n",
    "# we reject the null hypothesis that there is no association between cylinder and highway mileage"
   ]
  },
  {
   "cell_type": "code",
   "execution_count": null,
   "id": "c5a2122b",
   "metadata": {},
   "outputs": [],
   "source": [
    "sns.lmplot(data=mpg, y='cyl', x='hwy')"
   ]
  },
  {
   "cell_type": "markdown",
   "id": "b1ecf5fc",
   "metadata": {},
   "source": [
    "## 4. Use the data from the employees database to answer these questions:\n",
    "\n",
    "- Is an employee's gender independent of whether an employee works in sales or marketing? (only look at current employees)\n",
    "- Is an employee's gender independent of whether or not they are or have been a manager?"
   ]
  },
  {
   "cell_type": "markdown",
   "id": "e4590407",
   "metadata": {},
   "source": [
    "### Is an employee's gender independent of whether an employee works in sales or marketing?"
   ]
  },
  {
   "cell_type": "code",
   "execution_count": null,
   "id": "915b006a",
   "metadata": {},
   "outputs": [],
   "source": [
    "query = ''' \n",
    "        select emp_no, gender, dept_name\n",
    "        from employees\n",
    "            join dept_emp\n",
    "                using (emp_no)\n",
    "            join departments\n",
    "                using (dept_no)\n",
    "        where to_date = '9999-01-01'\n",
    "        and dept_name in ('Marketing','Sales')'''"
   ]
  },
  {
   "cell_type": "code",
   "execution_count": null,
   "id": "b8660a2f",
   "metadata": {},
   "outputs": [],
   "source": [
    "url = f'mysql+pymysql://{env.user}:{env.password}@{env.host}/employees'"
   ]
  },
  {
   "cell_type": "markdown",
   "id": "5efd0877",
   "metadata": {},
   "source": [
    "H$_0$ : there is no association between gender and the department\n",
    "\n",
    "H$_a$ : there is an association between gender and the department"
   ]
  },
  {
   "cell_type": "code",
   "execution_count": null,
   "id": "6e6cbc70",
   "metadata": {},
   "outputs": [],
   "source": [
    "ewg= pd.read_sql(query, url)\n",
    "ewg"
   ]
  },
  {
   "cell_type": "code",
   "execution_count": null,
   "id": "79404e2e",
   "metadata": {},
   "outputs": [],
   "source": [
    "observed = pd.crosstab(ewg.gender, ewg.dept_name)\n",
    "observed"
   ]
  },
  {
   "cell_type": "code",
   "execution_count": null,
   "id": "09f8d9d5",
   "metadata": {},
   "outputs": [],
   "source": [
    "chi2, p, degf, expected = stats.chi2_contingency(observed)"
   ]
  },
  {
   "cell_type": "code",
   "execution_count": null,
   "id": "7c17c1d4",
   "metadata": {},
   "outputs": [],
   "source": [
    "chi2, p"
   ]
  },
  {
   "cell_type": "code",
   "execution_count": null,
   "id": "9887f20d",
   "metadata": {},
   "outputs": [],
   "source": [
    "p < α"
   ]
  },
  {
   "cell_type": "code",
   "execution_count": null,
   "id": "41f9a08c",
   "metadata": {},
   "outputs": [],
   "source": [
    "# we fail to reject the null hypothesis that there is no association between gender and the department"
   ]
  },
  {
   "cell_type": "markdown",
   "id": "e810294a",
   "metadata": {},
   "source": [
    "### Is an employee's gender independent of whether or not they are or have been a manager?"
   ]
  },
  {
   "cell_type": "markdown",
   "id": "8b0649e3",
   "metadata": {},
   "source": [
    "H$_0$ : there is no association between being a persons gender and being a manager\n",
    "\n",
    "H$_a$ : there is a association between being a persons gender and being a manager"
   ]
  },
  {
   "cell_type": "code",
   "execution_count": null,
   "id": "2305592b",
   "metadata": {},
   "outputs": [],
   "source": [
    "query = '''\n",
    "        select emp_no, gender, dept_no\n",
    "        from employees\n",
    "            left join dept_manager\n",
    "                using (emp_no)\n",
    "        '''"
   ]
  },
  {
   "cell_type": "code",
   "execution_count": null,
   "id": "0d39916d",
   "metadata": {},
   "outputs": [],
   "source": [
    "ewm = pd.read_sql(query, url)\n",
    "ewm"
   ]
  },
  {
   "cell_type": "code",
   "execution_count": null,
   "id": "65ebd912",
   "metadata": {},
   "outputs": [],
   "source": [
    "ewm.dept_no = ewm.dept_no.fillna('not manager')"
   ]
  },
  {
   "cell_type": "code",
   "execution_count": null,
   "id": "86cf369a",
   "metadata": {},
   "outputs": [],
   "source": [
    "ewm.dept_no = np.where( ewm.dept_no != 'not manager', \n",
    "                      'manager', 'not manager')"
   ]
  },
  {
   "cell_type": "code",
   "execution_count": null,
   "id": "291dee36",
   "metadata": {},
   "outputs": [],
   "source": [
    "observed = pd.crosstab(ewm.gender, ewm.dept_no)\n",
    "observed"
   ]
  },
  {
   "cell_type": "code",
   "execution_count": null,
   "id": "04a1812b",
   "metadata": {},
   "outputs": [],
   "source": [
    "chi2, p, degf, expected = stats.chi2_contingency(observed)\n",
    "chi2, p"
   ]
  },
  {
   "cell_type": "code",
   "execution_count": null,
   "id": "1f55c3f0",
   "metadata": {},
   "outputs": [],
   "source": [
    "p < α"
   ]
  },
  {
   "cell_type": "code",
   "execution_count": null,
   "id": "a9984f66",
   "metadata": {},
   "outputs": [],
   "source": [
    "# we fail to reject the null hypothesis that there is no association between being a persons gender and being a manager"
   ]
  },
  {
   "cell_type": "code",
   "execution_count": null,
   "id": "386db5ec",
   "metadata": {},
   "outputs": [],
   "source": []
  },
  {
   "cell_type": "code",
   "execution_count": null,
   "id": "7d981614",
   "metadata": {},
   "outputs": [],
   "source": []
  },
  {
   "cell_type": "code",
   "execution_count": null,
   "id": "4f23d163",
   "metadata": {},
   "outputs": [],
   "source": []
  },
  {
   "cell_type": "code",
   "execution_count": null,
   "id": "7f75ea41",
   "metadata": {},
   "outputs": [],
   "source": []
  }
 ],
 "metadata": {
  "kernelspec": {
   "display_name": "Python 3 (ipykernel)",
   "language": "python",
   "name": "python3"
  },
  "language_info": {
   "codemirror_mode": {
    "name": "ipython",
    "version": 3
   },
   "file_extension": ".py",
   "mimetype": "text/x-python",
   "name": "python",
   "nbconvert_exporter": "python",
   "pygments_lexer": "ipython3",
   "version": "3.9.13"
  }
 },
 "nbformat": 4,
 "nbformat_minor": 5
}
